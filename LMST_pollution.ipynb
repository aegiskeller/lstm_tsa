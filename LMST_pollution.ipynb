{
 "cells": [
  {
   "cell_type": "code",
   "execution_count": 1,
   "id": "ee5a559f",
   "metadata": {},
   "outputs": [],
   "source": [
    "from math import sqrt\n",
    "from numpy import concatenate\n",
    "from matplotlib import pyplot\n",
    "from pandas import read_csv\n",
    "from pandas import DataFrame\n",
    "from pandas import concat\n",
    "from sklearn.preprocessing import MinMaxScaler\n",
    "from sklearn.preprocessing import LabelEncoder\n",
    "from sklearn.metrics import mean_squared_error\n",
    "from keras.models import Sequential\n",
    "from keras.layers import Dense\n",
    "from keras.layers import LSTM"
   ]
  },
  {
   "cell_type": "code",
   "execution_count": 2,
   "id": "3bb26cae",
   "metadata": {},
   "outputs": [],
   "source": [
    "# convert series to supervised learning\n",
    "def series_to_supervised(data, n_in=1, n_out=1, dropnan=True):\n",
    "    n_vars = 1 if type(data) is list else data.shape[1]\n",
    "    df = DataFrame(data)\n",
    "    cols, names = list(), list()\n",
    "    # input sequence (t-n, ... t-1)\n",
    "    for i in range(n_in, 0, -1):\n",
    "        cols.append(df.shift(i))\n",
    "        names += [('var%d(t-%d)' % (j+1, i)) for j in range(n_vars)]\n",
    "    # forecast sequence (t, t+1, ... t+n)\n",
    "    for i in range(0, n_out):\n",
    "        cols.append(df.shift(-i))\n",
    "        if i == 0:\n",
    "            names += [('var%d(t)' % (j+1)) for j in range(n_vars)]\n",
    "        else:\n",
    "            names += [('var%d(t+%d)' % (j+1, i)) for j in range(n_vars)]\n",
    "    # put it all together\n",
    "    agg = concat(cols, axis=1)\n",
    "    agg.columns = names\n",
    "    # drop rows with NaN values\n",
    "    if dropnan:\n",
    "        agg.dropna(inplace=True)\n",
    "    return agg\n"
   ]
  },
  {
   "cell_type": "code",
   "execution_count": 3,
   "id": "72f5b042",
   "metadata": {},
   "outputs": [
    {
     "name": "stdout",
     "output_type": "stream",
     "text": [
      "   var1(t-1)  var2(t-1)  var3(t-1)  var4(t-1)  var5(t-1)  var6(t-1)  \\\n",
      "1   0.129779   0.352941   0.245902   0.527273   0.666667   0.002290   \n",
      "2   0.148893   0.367647   0.245902   0.527273   0.666667   0.003811   \n",
      "3   0.159960   0.426471   0.229508   0.545454   0.666667   0.005332   \n",
      "4   0.182093   0.485294   0.229508   0.563637   0.666667   0.008391   \n",
      "5   0.138833   0.485294   0.229508   0.563637   0.666667   0.009912   \n",
      "\n",
      "   var7(t-1)  var8(t-1)   var1(t)  \n",
      "1   0.000000        0.0  0.148893  \n",
      "2   0.000000        0.0  0.159960  \n",
      "3   0.000000        0.0  0.182093  \n",
      "4   0.037037        0.0  0.138833  \n",
      "5   0.074074        0.0  0.109658  \n"
     ]
    }
   ],
   "source": [
    "# load dataset\n",
    "dataset = read_csv('input/lstm-datasets-multivariate-univariate/LSTM-Multivariate_pollution.csv', header=0, index_col=0)\n",
    "values = dataset.values\n",
    "# integer encode direction\n",
    "encoder = LabelEncoder()\n",
    "values[:,4] = encoder.fit_transform(values[:,4])\n",
    "# ensure all data is float\n",
    "values = values.astype('float32')\n",
    "# normalize features\n",
    "scaler = MinMaxScaler(feature_range=(0, 1))\n",
    "scaled = scaler.fit_transform(values)\n",
    "# frame as supervised learning\n",
    "reframed = series_to_supervised(scaled, 1, 1)\n",
    "# drop columns we don't want to predict\n",
    "reframed.drop(reframed.columns[[9,10,11,12,13,14,15]], axis=1, inplace=True)\n",
    "print(reframed.head())\n",
    " \n"
   ]
  },
  {
   "cell_type": "code",
   "execution_count": 4,
   "id": "b14273b0",
   "metadata": {},
   "outputs": [
    {
     "name": "stdout",
     "output_type": "stream",
     "text": [
      "(32850, 1, 8) (32850,) (10949, 1, 8) (10949,)\n"
     ]
    }
   ],
   "source": [
    "# split into train and test sets\n",
    "#1#################################################\n",
    "values = reframed.values\n",
    "n_train_hours = 365 * 90\n",
    "train = values[:n_train_hours, :]\n",
    "test = values[n_train_hours:, :]\n",
    "# split into input and outputs\n",
    "train_X, train_y = train[:, :-1], train[:, -1]\n",
    "test_X, test_y = test[:, :-1], test[:, -1]\n",
    "##################################################\n",
    "#2################################################\n",
    "# Splitting the dataset into the Training set and Test set\n",
    "#from sklearn.model_selection import train_test_split\n",
    "#train_X, test_X,train_y, test_y = train_test_split(train, test, test_size = 0.2, random_state = 0)\n",
    "###################################################\n",
    "# reshape input to be 3D [samples, timesteps, features]\n",
    "train_X = train_X.reshape((train_X.shape[0], 1, train_X.shape[1]))\n",
    "test_X = test_X.reshape((test_X.shape[0], 1, test_X.shape[1]))\n",
    "print(train_X.shape, train_y.shape, test_X.shape, test_y.shape)\n",
    " \n"
   ]
  },
  {
   "cell_type": "code",
   "execution_count": 5,
   "id": "c4693202",
   "metadata": {},
   "outputs": [
    {
     "name": "stdout",
     "output_type": "stream",
     "text": [
      "Epoch 1/40\n",
      "1174/1174 [==============================] - 4s 2ms/step - loss: 0.0417 - val_loss: 0.0167\n",
      "Epoch 2/40\n",
      "1174/1174 [==============================] - 1s 1ms/step - loss: 0.0145 - val_loss: 0.0142\n",
      "Epoch 3/40\n",
      "1174/1174 [==============================] - 1s 1ms/step - loss: 0.0143 - val_loss: 0.0134\n",
      "Epoch 4/40\n",
      "1174/1174 [==============================] - 1s 1ms/step - loss: 0.0143 - val_loss: 0.0135\n",
      "Epoch 5/40\n",
      "1174/1174 [==============================] - 1s 1ms/step - loss: 0.0143 - val_loss: 0.0134\n",
      "Epoch 6/40\n",
      "1174/1174 [==============================] - 2s 1ms/step - loss: 0.0143 - val_loss: 0.0134\n",
      "Epoch 7/40\n",
      "1174/1174 [==============================] - 2s 1ms/step - loss: 0.0143 - val_loss: 0.0134\n",
      "Epoch 8/40\n",
      "1174/1174 [==============================] - 2s 1ms/step - loss: 0.0142 - val_loss: 0.0133\n",
      "Epoch 9/40\n",
      "1174/1174 [==============================] - 1s 1ms/step - loss: 0.0143 - val_loss: 0.0136\n",
      "Epoch 10/40\n",
      "1174/1174 [==============================] - 1s 1ms/step - loss: 0.0143 - val_loss: 0.0133\n",
      "Epoch 11/40\n",
      "1174/1174 [==============================] - 1s 1ms/step - loss: 0.0142 - val_loss: 0.0132\n",
      "Epoch 12/40\n",
      "1174/1174 [==============================] - 2s 1ms/step - loss: 0.0142 - val_loss: 0.0131\n",
      "Epoch 13/40\n",
      "1174/1174 [==============================] - 2s 2ms/step - loss: 0.0141 - val_loss: 0.0131\n",
      "Epoch 14/40\n",
      "1174/1174 [==============================] - 2s 1ms/step - loss: 0.0141 - val_loss: 0.0131\n",
      "Epoch 15/40\n",
      "1174/1174 [==============================] - 2s 1ms/step - loss: 0.0141 - val_loss: 0.0131\n",
      "Epoch 16/40\n",
      "1174/1174 [==============================] - 2s 2ms/step - loss: 0.0141 - val_loss: 0.0130\n",
      "Epoch 17/40\n",
      "1174/1174 [==============================] - 2s 1ms/step - loss: 0.0141 - val_loss: 0.0131\n",
      "Epoch 18/40\n",
      "1174/1174 [==============================] - 2s 1ms/step - loss: 0.0141 - val_loss: 0.0133\n",
      "Epoch 19/40\n",
      "1174/1174 [==============================] - 2s 1ms/step - loss: 0.0142 - val_loss: 0.0131\n",
      "Epoch 20/40\n",
      "1174/1174 [==============================] - 1s 1ms/step - loss: 0.0141 - val_loss: 0.0132\n",
      "Epoch 21/40\n",
      "1174/1174 [==============================] - 1s 1ms/step - loss: 0.0142 - val_loss: 0.0134\n",
      "Epoch 22/40\n",
      "1174/1174 [==============================] - 1s 1ms/step - loss: 0.0142 - val_loss: 0.0133\n",
      "Epoch 23/40\n",
      "1174/1174 [==============================] - 1s 1ms/step - loss: 0.0142 - val_loss: 0.0132\n",
      "Epoch 24/40\n",
      "1174/1174 [==============================] - 1s 1ms/step - loss: 0.0141 - val_loss: 0.0134\n",
      "Epoch 25/40\n",
      "1174/1174 [==============================] - 1s 1ms/step - loss: 0.0142 - val_loss: 0.0134\n",
      "Epoch 26/40\n",
      "1174/1174 [==============================] - 2s 1ms/step - loss: 0.0142 - val_loss: 0.0135\n",
      "Epoch 27/40\n",
      "1174/1174 [==============================] - 2s 1ms/step - loss: 0.0141 - val_loss: 0.0135\n",
      "Epoch 28/40\n",
      "1174/1174 [==============================] - 1s 1ms/step - loss: 0.0141 - val_loss: 0.0136\n",
      "Epoch 29/40\n",
      "1174/1174 [==============================] - 1s 1ms/step - loss: 0.0140 - val_loss: 0.0135\n",
      "Epoch 30/40\n",
      "1174/1174 [==============================] - 1s 1ms/step - loss: 0.0141 - val_loss: 0.0135\n",
      "Epoch 31/40\n",
      "1174/1174 [==============================] - 1s 1ms/step - loss: 0.0141 - val_loss: 0.0135\n",
      "Epoch 32/40\n",
      "1174/1174 [==============================] - 1s 1ms/step - loss: 0.0140 - val_loss: 0.0135\n",
      "Epoch 33/40\n",
      "1174/1174 [==============================] - 2s 1ms/step - loss: 0.0141 - val_loss: 0.0136\n",
      "Epoch 34/40\n",
      "1174/1174 [==============================] - 1s 1ms/step - loss: 0.0141 - val_loss: 0.0136\n",
      "Epoch 35/40\n",
      "1174/1174 [==============================] - 1s 1ms/step - loss: 0.0140 - val_loss: 0.0137\n",
      "Epoch 36/40\n",
      "1174/1174 [==============================] - 1s 1ms/step - loss: 0.0140 - val_loss: 0.0135\n",
      "Epoch 37/40\n",
      "1174/1174 [==============================] - 1s 1ms/step - loss: 0.0141 - val_loss: 0.0137\n",
      "Epoch 38/40\n",
      "1174/1174 [==============================] - 1s 1ms/step - loss: 0.0140 - val_loss: 0.0137\n",
      "Epoch 39/40\n",
      "1174/1174 [==============================] - 1s 1ms/step - loss: 0.0140 - val_loss: 0.0135\n",
      "Epoch 40/40\n",
      "1174/1174 [==============================] - 1s 1ms/step - loss: 0.0140 - val_loss: 0.0137\n"
     ]
    },
    {
     "data": {
      "image/png": "[encoded data removed]",
      "text/plain": [
       "<Figure size 432x288 with 1 Axes>"
      ]
     },
     "metadata": {
      "needs_background": "light"
     },
     "output_type": "display_data"
    }
   ],
   "source": [
    "# design network\n",
    "model = Sequential()\n",
    "model.add(LSTM(15, input_shape=(train_X.shape[1], train_X.shape[2])))\n",
    "model.add(Dense(1))\n",
    "model.compile(loss='mae', optimizer='adam')\n",
    "# fit network\n",
    "history = model.fit(train_X, train_y, epochs=40, batch_size=28, validation_data=(test_X, test_y), verbose=1, shuffle=False)\n",
    "# plot history\n",
    "pyplot.plot(history.history['loss'], label='train')\n",
    "pyplot.plot(history.history['val_loss'], label='test')\n",
    "pyplot.legend()\n",
    "pyplot.show()\n",
    " \n"
   ]
  },
  {
   "cell_type": "code",
   "execution_count": 6,
   "id": "0cf2df41",
   "metadata": {},
   "outputs": [],
   "source": [
    "# make a prediction\n",
    "yhat = model.predict(test_X)\n",
    "test_X = test_X.reshape((test_X.shape[0], test_X.shape[2]))\n",
    "# invert scaling for forecast\n",
    "inv_yhat = concatenate((yhat, test_X[:, 1:]), axis=1)\n",
    "inv_yhat = scaler.inverse_transform(inv_yhat)\n",
    "#inv_yhat = inv_yhat[:,0]\n",
    "# invert scaling for actual\n",
    "test_y = test_y.reshape((len(test_y), 1))\n",
    "inv_y = concatenate((test_y, test_X[:, 1:]), axis=1)\n",
    "inv_y = scaler.inverse_transform(inv_y)\n",
    "inv_y = inv_y[:,0]\n"
   ]
  },
  {
   "cell_type": "code",
   "execution_count": 7,
   "id": "6018109d",
   "metadata": {},
   "outputs": [
    {
     "ename": "ValueError",
     "evalue": "y_true and y_pred have different number of output (1!=8)",
     "output_type": "error",
     "traceback": [
      "\u001b[1;31m---------------------------------------------------------------------------\u001b[0m",
      "\u001b[1;31mValueError\u001b[0m                                Traceback (most recent call last)",
      "\u001b[1;32m~\\AppData\\Local\\Temp/ipykernel_4140/874954987.py\u001b[0m in \u001b[0;36m<module>\u001b[1;34m\u001b[0m\n\u001b[0;32m      1\u001b[0m \u001b[1;31m# calculate RMSE\u001b[0m\u001b[1;33m\u001b[0m\u001b[1;33m\u001b[0m\u001b[1;33m\u001b[0m\u001b[0m\n\u001b[1;32m----> 2\u001b[1;33m \u001b[0mrmse\u001b[0m \u001b[1;33m=\u001b[0m \u001b[0msqrt\u001b[0m\u001b[1;33m(\u001b[0m\u001b[0mmean_squared_error\u001b[0m\u001b[1;33m(\u001b[0m\u001b[0minv_y\u001b[0m\u001b[1;33m,\u001b[0m \u001b[0minv_yhat\u001b[0m\u001b[1;33m)\u001b[0m\u001b[1;33m)\u001b[0m\u001b[1;33m\u001b[0m\u001b[1;33m\u001b[0m\u001b[0m\n\u001b[0m\u001b[0;32m      3\u001b[0m \u001b[0mprint\u001b[0m\u001b[1;33m(\u001b[0m\u001b[1;34m'Test RMSE: %.3f'\u001b[0m \u001b[1;33m%\u001b[0m \u001b[0mrmse\u001b[0m\u001b[1;33m)\u001b[0m\u001b[1;33m\u001b[0m\u001b[1;33m\u001b[0m\u001b[0m\n",
      "\u001b[1;32m~\\anaconda3\\lib\\site-packages\\sklearn\\utils\\validation.py\u001b[0m in \u001b[0;36minner_f\u001b[1;34m(*args, **kwargs)\u001b[0m\n\u001b[0;32m     61\u001b[0m             \u001b[0mextra_args\u001b[0m \u001b[1;33m=\u001b[0m \u001b[0mlen\u001b[0m\u001b[1;33m(\u001b[0m\u001b[0margs\u001b[0m\u001b[1;33m)\u001b[0m \u001b[1;33m-\u001b[0m \u001b[0mlen\u001b[0m\u001b[1;33m(\u001b[0m\u001b[0mall_args\u001b[0m\u001b[1;33m)\u001b[0m\u001b[1;33m\u001b[0m\u001b[1;33m\u001b[0m\u001b[0m\n\u001b[0;32m     62\u001b[0m             \u001b[1;32mif\u001b[0m \u001b[0mextra_args\u001b[0m \u001b[1;33m<=\u001b[0m \u001b[1;36m0\u001b[0m\u001b[1;33m:\u001b[0m\u001b[1;33m\u001b[0m\u001b[1;33m\u001b[0m\u001b[0m\n\u001b[1;32m---> 63\u001b[1;33m                 \u001b[1;32mreturn\u001b[0m \u001b[0mf\u001b[0m\u001b[1;33m(\u001b[0m\u001b[1;33m*\u001b[0m\u001b[0margs\u001b[0m\u001b[1;33m,\u001b[0m \u001b[1;33m**\u001b[0m\u001b[0mkwargs\u001b[0m\u001b[1;33m)\u001b[0m\u001b[1;33m\u001b[0m\u001b[1;33m\u001b[0m\u001b[0m\n\u001b[0m\u001b[0;32m     64\u001b[0m \u001b[1;33m\u001b[0m\u001b[0m\n\u001b[0;32m     65\u001b[0m             \u001b[1;31m# extra_args > 0\u001b[0m\u001b[1;33m\u001b[0m\u001b[1;33m\u001b[0m\u001b[1;33m\u001b[0m\u001b[0m\n",
      "\u001b[1;32m~\\anaconda3\\lib\\site-packages\\sklearn\\metrics\\_regression.py\u001b[0m in \u001b[0;36mmean_squared_error\u001b[1;34m(y_true, y_pred, sample_weight, multioutput, squared)\u001b[0m\n\u001b[0;32m    333\u001b[0m     \u001b[1;36m0.825\u001b[0m\u001b[1;33m...\u001b[0m\u001b[1;33m\u001b[0m\u001b[1;33m\u001b[0m\u001b[0m\n\u001b[0;32m    334\u001b[0m     \"\"\"\n\u001b[1;32m--> 335\u001b[1;33m     y_type, y_true, y_pred, multioutput = _check_reg_targets(\n\u001b[0m\u001b[0;32m    336\u001b[0m         y_true, y_pred, multioutput)\n\u001b[0;32m    337\u001b[0m     \u001b[0mcheck_consistent_length\u001b[0m\u001b[1;33m(\u001b[0m\u001b[0my_true\u001b[0m\u001b[1;33m,\u001b[0m \u001b[0my_pred\u001b[0m\u001b[1;33m,\u001b[0m \u001b[0msample_weight\u001b[0m\u001b[1;33m)\u001b[0m\u001b[1;33m\u001b[0m\u001b[1;33m\u001b[0m\u001b[0m\n",
      "\u001b[1;32m~\\anaconda3\\lib\\site-packages\\sklearn\\metrics\\_regression.py\u001b[0m in \u001b[0;36m_check_reg_targets\u001b[1;34m(y_true, y_pred, multioutput, dtype)\u001b[0m\n\u001b[0;32m     97\u001b[0m \u001b[1;33m\u001b[0m\u001b[0m\n\u001b[0;32m     98\u001b[0m     \u001b[1;32mif\u001b[0m \u001b[0my_true\u001b[0m\u001b[1;33m.\u001b[0m\u001b[0mshape\u001b[0m\u001b[1;33m[\u001b[0m\u001b[1;36m1\u001b[0m\u001b[1;33m]\u001b[0m \u001b[1;33m!=\u001b[0m \u001b[0my_pred\u001b[0m\u001b[1;33m.\u001b[0m\u001b[0mshape\u001b[0m\u001b[1;33m[\u001b[0m\u001b[1;36m1\u001b[0m\u001b[1;33m]\u001b[0m\u001b[1;33m:\u001b[0m\u001b[1;33m\u001b[0m\u001b[1;33m\u001b[0m\u001b[0m\n\u001b[1;32m---> 99\u001b[1;33m         raise ValueError(\"y_true and y_pred have different number of output \"\n\u001b[0m\u001b[0;32m    100\u001b[0m                          \"({0}!={1})\".format(y_true.shape[1], y_pred.shape[1]))\n\u001b[0;32m    101\u001b[0m \u001b[1;33m\u001b[0m\u001b[0m\n",
      "\u001b[1;31mValueError\u001b[0m: y_true and y_pred have different number of output (1!=8)"
     ]
    }
   ],
   "source": [
    "# calculate RMSE\n",
    "rmse = sqrt(mean_squared_error(inv_y, inv_yhat))\n",
    "print('Test RMSE: %.3f' % rmse)"
   ]
  },
  {
   "cell_type": "code",
   "execution_count": null,
   "id": "8a3865d8",
   "metadata": {},
   "outputs": [],
   "source": [
    "so this equates to an average error of 26 over a median value of 70 "
   ]
  },
  {
   "cell_type": "code",
   "execution_count": null,
   "id": "3eaa2bdf",
   "metadata": {},
   "outputs": [],
   "source": [
    "import numpy as np\n",
    "np.median(inv_yhat)"
   ]
  },
  {
   "cell_type": "code",
   "execution_count": null,
   "id": "0c32b8d0",
   "metadata": {},
   "outputs": [],
   "source": [
    "inv_y"
   ]
  },
  {
   "cell_type": "code",
   "execution_count": null,
   "id": "b9a450b9",
   "metadata": {},
   "outputs": [],
   "source": [
    "inv_yhat"
   ]
  },
  {
   "cell_type": "code",
   "execution_count": null,
   "id": "9dae4d14",
   "metadata": {},
   "outputs": [],
   "source": [
    "pyplot.plot(inv_y, label='obs')\n",
    "pyplot.plot(inv_yhat, label='pred')\n",
    "pyplot.legend()\n",
    "pyplot.show()"
   ]
  },
  {
   "cell_type": "code",
   "execution_count": null,
   "id": "547d862a",
   "metadata": {},
   "outputs": [],
   "source": []
  }
 ],
 "metadata": {
  "kernelspec": {
   "display_name": "Python 3 (ipykernel)",
   "language": "python",
   "name": "python3"
  },
  "language_info": {
   "codemirror_mode": {
    "name": "ipython",
    "version": 3
   },
   "file_extension": ".py",
   "mimetype": "text/x-python",
   "name": "python",
   "nbconvert_exporter": "python",
   "pygments_lexer": "ipython3",
   "version": "3.8.5"
  }
 },
 "nbformat": 4,
 "nbformat_minor": 5
}
